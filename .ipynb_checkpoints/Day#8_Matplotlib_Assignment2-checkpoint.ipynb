{
 "cells": [
  {
   "cell_type": "code",
   "execution_count": 2,
   "id": "9274b2be",
   "metadata": {},
   "outputs": [],
   "source": [
    "import numpy as np"
   ]
  },
  {
   "cell_type": "markdown",
   "id": "4afacfd6",
   "metadata": {},
   "source": [
    "# Q1: Import matplotlib library"
   ]
  },
  {
   "cell_type": "code",
   "execution_count": 3,
   "id": "f33552d6",
   "metadata": {},
   "outputs": [],
   "source": [
    "import matplotlib.pyplot as plt"
   ]
  },
  {
   "cell_type": "markdown",
   "id": "66144820",
   "metadata": {},
   "source": [
    "# Q2: Create a one line chart using two arrays. The first array represents x and the second array represents y\n",
    "| x     |     y    |\n",
    "| ----- | -------- |\n",
    "| 1    | 1       |\n",
    "| 2    | 2       |\n",
    "| 3    | 3       |\n",
    "| 4    | 5       |\n",
    "| 5    | 8       |\n",
    "| 6    | 13      |\n",
    "| 7    | 20      |"
   ]
  },
  {
   "cell_type": "code",
   "execution_count": 3,
   "id": "2e881a0a",
   "metadata": {},
   "outputs": [],
   "source": [
    "# write your code here ^_^"
   ]
  },
  {
   "cell_type": "markdown",
   "id": "bb6ca318",
   "metadata": {},
   "source": [
    "# Q3: Create a two lines chart using the same previous arrays. \n",
    "But this time:\n",
    "- Mark each point with a circle.\n",
    "- Use dashed lines.\n",
    "- Set the size of the marker (circle) to size 10.\n",
    "- Set the width of the line to 3.\n",
    "- Add legends. 'Normal' for array x and 'Fast' for array y."
   ]
  },
  {
   "cell_type": "code",
   "execution_count": 4,
   "id": "93358d87",
   "metadata": {},
   "outputs": [],
   "source": [
    "# write your code here ^_^"
   ]
  },
  {
   "cell_type": "markdown",
   "id": "d75035d5",
   "metadata": {},
   "source": [
    "# Q4: Display multiple linear charts in one row using the charts given below.\n",
    "- Give each chart a title \n",
    "- Add a super title 'my data visulaization assignment'. "
   ]
  },
  {
   "cell_type": "code",
   "execution_count": 5,
   "id": "6b7e253a",
   "metadata": {},
   "outputs": [],
   "source": [
    "#super title = my data visulaization assignment\n",
    "\n",
    "#title = First Chart\n",
    "x_plot1 = np.array([1, 2, 3, 4, 5, 6, 7])\n",
    "y_plot1 = np.array([1, 1, 2, 3, 5, 8, 13])\n",
    "\n",
    "#title = Second Chart\n",
    "x_plot2 = np.array([0, 1, 2, 3, 4, 5, 6])\n",
    "y_plot2 = np.array([2, 4, 6, 8, 10, 12, 14])\n",
    "\n",
    "#title = Third Chart\n",
    "x_plot3 = np.array([0, 1, 3, 4])\n",
    "y_plot3 = np.array([4, 6, 3, 4])"
   ]
  },
  {
   "cell_type": "code",
   "execution_count": 6,
   "id": "3cde07c4",
   "metadata": {},
   "outputs": [],
   "source": [
    "# write your code here ^_^"
   ]
  },
  {
   "cell_type": "markdown",
   "id": "8456e9b0",
   "metadata": {},
   "source": [
    "# Q5: Define an array that has a values of your top three TV series and define another array to hold the rating of the three TV series out of 10. Create a bar chart using the two arrays\n",
    "- Set a new color for the bars.\n",
    "- Change the width of the bars to width 0.5."
   ]
  },
  {
   "cell_type": "code",
   "execution_count": 7,
   "id": "6c47d773",
   "metadata": {},
   "outputs": [],
   "source": [
    "# write your code here ^_^"
   ]
  },
  {
   "cell_type": "markdown",
   "id": "4cabe227",
   "metadata": {},
   "source": [
    "# Q6: Create a scatter plot  using two arrays. The first array represents carAge and the second array represents carSpeed, set a specific color for each dot by using an array of different colors and add labels for the plot\n",
    "| carAge | carSpeed |\n",
    "| ----- | -------- |\n",
    "| 5    | 99       |\n",
    "| 7    | 86       |\n",
    "| 8    |87      |\n",
    "| 7    | 88       |\n",
    "| 2    | 111       |\n",
    "| 17    | 86       |\n",
    "| 2    | 103      |\n",
    "| 9    | 87       |\n",
    "| 4    | 94       |\n",
    "| 11    | 78      |"
   ]
  },
  {
   "cell_type": "markdown",
   "id": "1f6f2e01",
   "metadata": {},
   "source": [
    "- Set a new color for each dot by using an array of different colors.\n",
    "- Change the size of the dots to size 350.\n",
    "- Add labels for x-axis and y-axis.\n",
    "- Adjust the transparency of the dots with the alpha argument. let the alpha value be 0.4"
   ]
  },
  {
   "cell_type": "code",
   "execution_count": 8,
   "id": "8dbb33d2",
   "metadata": {},
   "outputs": [],
   "source": [
    "# write your code here ^_^"
   ]
  },
  {
   "cell_type": "markdown",
   "id": "8ac845ae",
   "metadata": {},
   "source": [
    "# Q7: Create a pie chart using two arrays. The first array represents python_libraries and the second array represents your skills out of 10 at each library\n",
    "| python_libraries |   \n",
    "| ------------ | \n",
    "| NumPy        | \n",
    "| Pandas       | \n",
    "| Matplotlib   | \n",
    "| Seaborn      | \n",
    "| Plotly       | \n",
    "| Scikit-learn | "
   ]
  },
  {
   "cell_type": "markdown",
   "id": "b046049a",
   "metadata": {},
   "source": [
    "- Set a new color for each wedge by using an array of different colors.\n",
    "- Pull your favorite library wedge 0.3 from the center of the pie.\n",
    "- Add a shadow to the pie chart"
   ]
  },
  {
   "cell_type": "code",
   "execution_count": 9,
   "id": "b7b0f120",
   "metadata": {},
   "outputs": [],
   "source": [
    "# write your code here ^_^"
   ]
  },
  {
   "cell_type": "markdown",
   "id": "7897aedd",
   "metadata": {},
   "source": [
    "# Q8: Create a histogram with 250 values and 15 bars"
   ]
  },
  {
   "cell_type": "code",
   "execution_count": 10,
   "id": "bf4a7f4d",
   "metadata": {},
   "outputs": [],
   "source": [
    "# write your code here ^_^"
   ]
  }
 ],
 "metadata": {
  "kernelspec": {
   "display_name": "Python 3 (ipykernel)",
   "language": "python",
   "name": "python3"
  },
  "language_info": {
   "codemirror_mode": {
    "name": "ipython",
    "version": 3
   },
   "file_extension": ".py",
   "mimetype": "text/x-python",
   "name": "python",
   "nbconvert_exporter": "python",
   "pygments_lexer": "ipython3",
   "version": "3.9.12"
  }
 },
 "nbformat": 4,
 "nbformat_minor": 5
}
